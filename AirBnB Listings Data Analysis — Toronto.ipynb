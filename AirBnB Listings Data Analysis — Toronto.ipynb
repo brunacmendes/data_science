{
  "nbformat": 4,
  "nbformat_minor": 0,
  "metadata": {
    "colab": {
      "name": "AirBnB Listings Data Analysis — Toronto",
      "provenance": [],
      "collapsed_sections": [],
      "include_colab_link": true
    },
    "kernelspec": {
      "name": "python3",
      "display_name": "Python 3"
    }
  },
  "cells": [
    {
      "cell_type": "markdown",
      "metadata": {
        "id": "view-in-github",
        "colab_type": "text"
      },
      "source": [
        "<a href=\"https://colab.research.google.com/github/brunacmendes/data_science/blob/master/AirBnB%20Listings%20Data%20Analysis%20%E2%80%94%20Toronto.ipynb\" target=\"_parent\"><img src=\"https://colab.research.google.com/assets/colab-badge.svg\" alt=\"Open In Colab\"/></a>"
      ]
    },
    {
      "cell_type": "markdown",
      "metadata": {
        "id": "kLI0gJtzDGuQ",
        "colab_type": "text"
      },
      "source": [
        "# AirBnB Listings Data Analysis — *Toronto, Canada*\n",
        "\n",
        "\n",
        "[Airbnb](https://www.airbnb.com/) is a popular home-sharing site that takes a unique approach toward lodging, by offering travelers from all around the world someone's home as a place to stay instead of a traditional hotel. \n",
        "\n",
        "Since 2008, guests and hosts have used Airbnb to expand on traveling possibilities. AirBnB offers over [7 million accommodations and 50,000 handcrafted activities](https://news.airbnb.com/about-us/) powered by local hosts, with more than 750 million guest arrivals to date.\n",
        "\n",
        "The website [Inside Airbnb](http://insideairbnb.com/get-the-data.html) provides us access to millions of listings that generate a lot of data - data that can be analyzed and used for many projects and solutions in the most important cities in the world.\n",
        "\n",
        "<center><img alt=\"Analysing Airbnb\" width=\"20%\" src=\"https://logospng.org/download/airbnb/logo-airbnb-1024.png\"></center>\n",
        "\n",
        "**In this notebook, we will be working with the City of Toronto summarized dataset to take some insights from the data, which contains information about listing prices, room types, rental periods, hosts, reviews, locations, and availability over a year.** \n",
        "\n",
        "To accomplish that, we're going through the following steps: \n",
        "\n",
        "  - Acquaring and loading the data;\n",
        "  - Cleaning the data;\n",
        "  - Analyzing the data.\n",
        "\n",
        "\n"
      ]
    },
    {
      "cell_type": "markdown",
      "metadata": {
        "id": "1iamxtbhE-gy",
        "colab_type": "text"
      },
      "source": [
        "## City of Toronto"
      ]
    },
    {
      "cell_type": "markdown",
      "metadata": {
        "id": "0zxQHhIUDF_2",
        "colab_type": "text"
      },
      "source": [
        "## 1. Loading Libraries and Data\n",
        "\n",
        "\n",
        "* `pandas` - library for data manipulation;\n",
        "\n",
        "* `matplotlib` and `seaborn` - libraries for data visualization;\n",
        "\n",
        "\n",
        "* `listings.csv ` - summary information and metrics for listings in Toronto (good for visualisations), last updated on May 7th, 2020.\n",
        "\n"
      ]
    },
    {
      "cell_type": "code",
      "metadata": {
        "id": "Vhp2wMPgJ6zX",
        "colab_type": "code",
        "colab": {}
      },
      "source": [
        "# import packages\n",
        "\n",
        "import pandas as pd \n",
        "import matplotlib.pyplot as plt \n",
        "import seaborn as sns \n",
        "\n",
        "%matplotlib inline\n"
      ],
      "execution_count": 0,
      "outputs": []
    },
    {
      "cell_type": "code",
      "metadata": {
        "id": "tUmoAT8DLQ5T",
        "colab_type": "code",
        "colab": {}
      },
      "source": [
        "# Read listings.csv into dataframe\n",
        "df = pd.read_csv('http://data.insideairbnb.com/canada/on/toronto/2020-05-07/visualisations/listings.csv')\n"
      ],
      "execution_count": 0,
      "outputs": []
    },
    {
      "cell_type": "markdown",
      "metadata": {
        "id": "RYgvuebKNg8-",
        "colab_type": "text"
      },
      "source": [
        "## 2. Exploring the Dataset\n",
        "\n",
        "Firstly, we check the amount of rows in the dataset to understand the size we are working with.\n",
        "\n",
        "Then, we display every column to understand the variables and its types.\n"
      ]
    },
    {
      "cell_type": "code",
      "metadata": {
        "id": "TFRK0tniLV-G",
        "colab_type": "code",
        "colab": {
          "base_uri": "https://localhost:8080/",
          "height": 364
        },
        "outputId": "c2469f1d-6cbb-4b13-c5b5-e7c06d0967d6"
      },
      "source": [
        "# dataset volume\n",
        "print(\"Listings: \\t {}\".format(df.shape[0]))\n",
        "\n",
        "# number of variables\n",
        "print(\"Variables: \\t {}\\n\".format(df.shape[1]))\n",
        "\n",
        "# display variables & types\n",
        "display(df.dtypes)\n"
      ],
      "execution_count": 27,
      "outputs": [
        {
          "output_type": "stream",
          "text": [
            "Listings: \t 21771\n",
            "Variables: \t 16\n",
            "\n"
          ],
          "name": "stdout"
        },
        {
          "output_type": "display_data",
          "data": {
            "text/plain": [
              "id                                  int64\n",
              "name                               object\n",
              "host_id                             int64\n",
              "host_name                          object\n",
              "neighbourhood_group               float64\n",
              "neighbourhood                      object\n",
              "latitude                          float64\n",
              "longitude                         float64\n",
              "room_type                          object\n",
              "price                               int64\n",
              "minimum_nights                      int64\n",
              "number_of_reviews                   int64\n",
              "last_review                        object\n",
              "reviews_per_month                 float64\n",
              "calculated_host_listings_count      int64\n",
              "availability_365                    int64\n",
              "dtype: object"
            ]
          },
          "metadata": {
            "tags": []
          }
        }
      ]
    },
    {
      "cell_type": "markdown",
      "metadata": {
        "id": "hcw3Ry-gGpMB",
        "colab_type": "text"
      },
      "source": [
        "  * `id` - id number that identifies the property\n",
        "  * `name` - Property name\n",
        "  * `host_id` - id number that identifies the host\n",
        "  * `host_name` - Host name\n",
        "  * `neighbourhood_group` - The main regions of the city\n",
        "  * `neighbourhood` - The neighbourhoods\n",
        "  * `latitude` - Property latitude\n",
        "  * `longitude` - Property longitude\n",
        "  * `room_type` - Type of the room\n",
        "  * `price` - The price for one night\n",
        "  * `minimum_nights` - Minimum amount of nights to book the place\n",
        "  * `number_of_reviews` - Number of reviews received\n",
        "  * `last_review` - Date of the last review\n",
        "  * `reviews_per_month` - Amount of reviews per month\n",
        "  * `calculated_host_listings_count` - Number of properties available on airbnb owned by the host\n",
        "  * `availability_365` - Number of days of availability within 365 days\n",
        "\n",
        "\n",
        "\n",
        "---\n",
        "\n",
        "\n",
        "These 16 columns provide a rich amount of information for data exploration. We do already see some missing values, which will require cleaning and handling of NaN values.\n",
        "\n",
        "Before we perform an analysis, we'll first see what our *dataset* looks like, by presenting the first ten entries."
      ]
    },
    {
      "cell_type": "code",
      "metadata": {
        "id": "2iS_dae7YQtO",
        "colab_type": "code",
        "colab": {
          "base_uri": "https://localhost:8080/",
          "height": 921
        },
        "outputId": "0e370095-6dcc-4085-ed75-42f82d89457f"
      },
      "source": [
        "# show first 10 entries\n",
        "df.head(10)"
      ],
      "execution_count": 19,
      "outputs": [
        {
          "output_type": "execute_result",
          "data": {
            "text/html": [
              "<div>\n",
              "<style scoped>\n",
              "    .dataframe tbody tr th:only-of-type {\n",
              "        vertical-align: middle;\n",
              "    }\n",
              "\n",
              "    .dataframe tbody tr th {\n",
              "        vertical-align: top;\n",
              "    }\n",
              "\n",
              "    .dataframe thead th {\n",
              "        text-align: right;\n",
              "    }\n",
              "</style>\n",
              "<table border=\"1\" class=\"dataframe\">\n",
              "  <thead>\n",
              "    <tr style=\"text-align: right;\">\n",
              "      <th></th>\n",
              "      <th>id</th>\n",
              "      <th>name</th>\n",
              "      <th>host_id</th>\n",
              "      <th>host_name</th>\n",
              "      <th>neighbourhood_group</th>\n",
              "      <th>neighbourhood</th>\n",
              "      <th>latitude</th>\n",
              "      <th>longitude</th>\n",
              "      <th>room_type</th>\n",
              "      <th>price</th>\n",
              "      <th>minimum_nights</th>\n",
              "      <th>number_of_reviews</th>\n",
              "      <th>last_review</th>\n",
              "      <th>reviews_per_month</th>\n",
              "      <th>calculated_host_listings_count</th>\n",
              "      <th>availability_365</th>\n",
              "    </tr>\n",
              "  </thead>\n",
              "  <tbody>\n",
              "    <tr>\n",
              "      <th>0</th>\n",
              "      <td>1419</td>\n",
              "      <td>Beautiful home in amazing area!</td>\n",
              "      <td>1565</td>\n",
              "      <td>Alexandra</td>\n",
              "      <td>NaN</td>\n",
              "      <td>Little Portugal</td>\n",
              "      <td>43.64617</td>\n",
              "      <td>-79.42451</td>\n",
              "      <td>Entire home/apt</td>\n",
              "      <td>470</td>\n",
              "      <td>4</td>\n",
              "      <td>7</td>\n",
              "      <td>2017-12-04</td>\n",
              "      <td>0.12</td>\n",
              "      <td>1</td>\n",
              "      <td>0</td>\n",
              "    </tr>\n",
              "    <tr>\n",
              "      <th>1</th>\n",
              "      <td>8077</td>\n",
              "      <td>Downtown Harbourfront Private Room</td>\n",
              "      <td>22795</td>\n",
              "      <td>Kathie &amp; Larry</td>\n",
              "      <td>NaN</td>\n",
              "      <td>Waterfront Communities-The Island</td>\n",
              "      <td>43.64105</td>\n",
              "      <td>-79.37628</td>\n",
              "      <td>Private room</td>\n",
              "      <td>105</td>\n",
              "      <td>180</td>\n",
              "      <td>169</td>\n",
              "      <td>2013-08-27</td>\n",
              "      <td>1.30</td>\n",
              "      <td>2</td>\n",
              "      <td>0</td>\n",
              "    </tr>\n",
              "    <tr>\n",
              "      <th>2</th>\n",
              "      <td>12604</td>\n",
              "      <td>Seaton Village Parlour Bedroom</td>\n",
              "      <td>48239</td>\n",
              "      <td>Rona</td>\n",
              "      <td>NaN</td>\n",
              "      <td>Annex</td>\n",
              "      <td>43.66724</td>\n",
              "      <td>-79.41598</td>\n",
              "      <td>Private room</td>\n",
              "      <td>70</td>\n",
              "      <td>1</td>\n",
              "      <td>0</td>\n",
              "      <td>NaN</td>\n",
              "      <td>NaN</td>\n",
              "      <td>1</td>\n",
              "      <td>0</td>\n",
              "    </tr>\n",
              "    <tr>\n",
              "      <th>3</th>\n",
              "      <td>23691</td>\n",
              "      <td>Queen Bedroom close to downtown</td>\n",
              "      <td>93825</td>\n",
              "      <td>Yohan &amp; Sarah</td>\n",
              "      <td>NaN</td>\n",
              "      <td>Briar Hill-Belgravia</td>\n",
              "      <td>43.69602</td>\n",
              "      <td>-79.45468</td>\n",
              "      <td>Private room</td>\n",
              "      <td>72</td>\n",
              "      <td>1</td>\n",
              "      <td>217</td>\n",
              "      <td>2019-12-22</td>\n",
              "      <td>1.79</td>\n",
              "      <td>2</td>\n",
              "      <td>0</td>\n",
              "    </tr>\n",
              "    <tr>\n",
              "      <th>4</th>\n",
              "      <td>26654</td>\n",
              "      <td>World Class downtown @CN Tower Theatre MTCC ga...</td>\n",
              "      <td>113345</td>\n",
              "      <td>Adela</td>\n",
              "      <td>NaN</td>\n",
              "      <td>Waterfront Communities-The Island</td>\n",
              "      <td>43.64530</td>\n",
              "      <td>-79.38940</td>\n",
              "      <td>Entire home/apt</td>\n",
              "      <td>169</td>\n",
              "      <td>4</td>\n",
              "      <td>40</td>\n",
              "      <td>2020-03-20</td>\n",
              "      <td>0.35</td>\n",
              "      <td>5</td>\n",
              "      <td>365</td>\n",
              "    </tr>\n",
              "    <tr>\n",
              "      <th>5</th>\n",
              "      <td>27423</td>\n",
              "      <td>Executive Studio Unit- Ideal for One Person</td>\n",
              "      <td>118124</td>\n",
              "      <td>Brent</td>\n",
              "      <td>NaN</td>\n",
              "      <td>Greenwood-Coxwell</td>\n",
              "      <td>43.66890</td>\n",
              "      <td>-79.32592</td>\n",
              "      <td>Entire home/apt</td>\n",
              "      <td>53</td>\n",
              "      <td>120</td>\n",
              "      <td>26</td>\n",
              "      <td>2011-08-30</td>\n",
              "      <td>0.22</td>\n",
              "      <td>1</td>\n",
              "      <td>0</td>\n",
              "    </tr>\n",
              "    <tr>\n",
              "      <th>6</th>\n",
              "      <td>28160</td>\n",
              "      <td>Luxury, Safety, Affordability For Women Travel...</td>\n",
              "      <td>86838</td>\n",
              "      <td>Rita</td>\n",
              "      <td>NaN</td>\n",
              "      <td>Mount Pleasant West</td>\n",
              "      <td>43.70410</td>\n",
              "      <td>-79.39026</td>\n",
              "      <td>Entire home/apt</td>\n",
              "      <td>60</td>\n",
              "      <td>120</td>\n",
              "      <td>7</td>\n",
              "      <td>2018-10-17</td>\n",
              "      <td>0.12</td>\n",
              "      <td>1</td>\n",
              "      <td>358</td>\n",
              "    </tr>\n",
              "    <tr>\n",
              "      <th>7</th>\n",
              "      <td>30931</td>\n",
              "      <td>Downtown Toronto - Waterview Condo</td>\n",
              "      <td>22795</td>\n",
              "      <td>Kathie &amp; Larry</td>\n",
              "      <td>NaN</td>\n",
              "      <td>Waterfront Communities-The Island</td>\n",
              "      <td>43.64151</td>\n",
              "      <td>-79.37643</td>\n",
              "      <td>Entire home/apt</td>\n",
              "      <td>141</td>\n",
              "      <td>180</td>\n",
              "      <td>1</td>\n",
              "      <td>2010-08-11</td>\n",
              "      <td>0.01</td>\n",
              "      <td>2</td>\n",
              "      <td>365</td>\n",
              "    </tr>\n",
              "    <tr>\n",
              "      <th>8</th>\n",
              "      <td>40456</td>\n",
              "      <td>Downtown 2  Bdr.Apt with King Size Bed and Par...</td>\n",
              "      <td>174063</td>\n",
              "      <td>Denis</td>\n",
              "      <td>NaN</td>\n",
              "      <td>South Parkdale</td>\n",
              "      <td>43.63532</td>\n",
              "      <td>-79.44049</td>\n",
              "      <td>Entire home/apt</td>\n",
              "      <td>100</td>\n",
              "      <td>28</td>\n",
              "      <td>110</td>\n",
              "      <td>2020-03-25</td>\n",
              "      <td>0.93</td>\n",
              "      <td>5</td>\n",
              "      <td>342</td>\n",
              "    </tr>\n",
              "    <tr>\n",
              "      <th>9</th>\n",
              "      <td>41887</td>\n",
              "      <td>Great location</td>\n",
              "      <td>183071</td>\n",
              "      <td>Kyle</td>\n",
              "      <td>NaN</td>\n",
              "      <td>Oakridge</td>\n",
              "      <td>43.69466</td>\n",
              "      <td>-79.28667</td>\n",
              "      <td>Entire home/apt</td>\n",
              "      <td>69</td>\n",
              "      <td>2</td>\n",
              "      <td>82</td>\n",
              "      <td>2019-09-02</td>\n",
              "      <td>1.95</td>\n",
              "      <td>2</td>\n",
              "      <td>281</td>\n",
              "    </tr>\n",
              "  </tbody>\n",
              "</table>\n",
              "</div>"
            ],
            "text/plain": [
              "      id  ... availability_365\n",
              "0   1419  ...                0\n",
              "1   8077  ...                0\n",
              "2  12604  ...                0\n",
              "3  23691  ...                0\n",
              "4  26654  ...              365\n",
              "5  27423  ...                0\n",
              "6  28160  ...              358\n",
              "7  30931  ...              365\n",
              "8  40456  ...              342\n",
              "9  41887  ...              281\n",
              "\n",
              "[10 rows x 16 columns]"
            ]
          },
          "metadata": {
            "tags": []
          },
          "execution_count": 19
        }
      ]
    },
    {
      "cell_type": "markdown",
      "metadata": {
        "id": "6-B_qtEaYEd-",
        "colab_type": "text"
      },
      "source": [
        "## 3. Data Cleaning & Analysis"
      ]
    },
    {
      "cell_type": "markdown",
      "metadata": {
        "id": "yz1urSUGW9iE",
        "colab_type": "text"
      },
      "source": [
        "### **3.1. Missing data**"
      ]
    },
    {
      "cell_type": "code",
      "metadata": {
        "id": "plk2FjbCXOqP",
        "colab_type": "code",
        "colab": {
          "base_uri": "https://localhost:8080/",
          "height": 312
        },
        "outputId": "338944ce-9285-4e99-94e2-d4029a298767"
      },
      "source": [
        "# ordenar em ordem decrescente as variáveis por seus valores ausentes\n",
        "(round(df.isnull().sum() / df.shape[0] *100,2)).sort_values(ascending=False)"
      ],
      "execution_count": 24,
      "outputs": [
        {
          "output_type": "execute_result",
          "data": {
            "text/plain": [
              "neighbourhood_group               100.00\n",
              "reviews_per_month                  19.31\n",
              "last_review                        19.31\n",
              "host_name                           0.01\n",
              "availability_365                    0.00\n",
              "calculated_host_listings_count      0.00\n",
              "number_of_reviews                   0.00\n",
              "minimum_nights                      0.00\n",
              "price                               0.00\n",
              "room_type                           0.00\n",
              "longitude                           0.00\n",
              "latitude                            0.00\n",
              "neighbourhood                       0.00\n",
              "host_id                             0.00\n",
              "name                                0.00\n",
              "id                                  0.00\n",
              "dtype: float64"
            ]
          },
          "metadata": {
            "tags": []
          },
          "execution_count": 24
        }
      ]
    },
    {
      "cell_type": "markdown",
      "metadata": {
        "id": "iHXvvHIxaoNc",
        "colab_type": "text"
      },
      "source": [
        "### **3.2. Variable Distribution**\n",
        "\n",
        "Histograms are important so we can see the distribuition for each variable and verify the existence of *outliers.*\n",
        "\n",
        "An outlier is an observation that lies an abnormal distance from other values in a dataset.\n"
      ]
    },
    {
      "cell_type": "code",
      "metadata": {
        "id": "q2wWSfeRbmBo",
        "colab_type": "code",
        "colab": {
          "base_uri": "https://localhost:8080/",
          "height": 607
        },
        "outputId": "07e5eef0-f522-4db9-d048-12ed95d58f79"
      },
      "source": [
        "# histogram\n",
        "df.hist(bins=15, figsize=(15,10));"
      ],
      "execution_count": 18,
      "outputs": [
        {
          "output_type": "display_data",
          "data": {
            "image/png": "[encoded data removed]",
            "text/plain": [
              "<Figure size 1080x720 with 12 Axes>"
            ]
          },
          "metadata": {
            "tags": [],
            "needs_background": "light"
          }
        }
      ]
    },
    {
      "cell_type": "markdown",
      "metadata": {
        "id": "7x4aw1j5wNmn",
        "colab_type": "text"
      },
      "source": [
        "### **3.3. Identifying and Removing Outliers**\n",
        "\n",
        "We can deal with outliers by calculating the [standard devation](https://en.wikipedia.org/wiki/Standard_deviation) of the all the price values. It is standard practice to consider values above three times the standard deviation to be outliers."
      ]
    },
    {
      "cell_type": "code",
      "metadata": {
        "id": "ff-8gUahLk-C",
        "colab_type": "code",
        "colab": {}
      },
      "source": [
        "# ver a média da coluna `price``\n"
      ],
      "execution_count": 0,
      "outputs": []
    },
    {
      "cell_type": "markdown",
      "metadata": {
        "id": "IXn2oIo5qx-w",
        "colab_type": "text"
      },
      "source": [
        "### **3.4 Correlations**"
      ]
    },
    {
      "cell_type": "code",
      "metadata": {
        "id": "x2ayzBajqxyd",
        "colab_type": "code",
        "colab": {
          "base_uri": "https://localhost:8080/",
          "height": 258
        },
        "outputId": "0bf64d30-8366-4c8a-d275-b44842d38fae"
      },
      "source": [
        "# criar uma matriz de correlação\n",
        "\n",
        "corr = df_clean[['price', 'minimum_nights','number_of_reviews', 'reviews_per_month',\n",
        "                'calculated_host_listings_count', 'availability_365']].corr()\n",
        "\n",
        "display(corr)\n"
      ],
      "execution_count": 12,
      "outputs": [
        {
          "output_type": "display_data",
          "data": {
            "text/html": [
              "<div>\n",
              "<style scoped>\n",
              "    .dataframe tbody tr th:only-of-type {\n",
              "        vertical-align: middle;\n",
              "    }\n",
              "\n",
              "    .dataframe tbody tr th {\n",
              "        vertical-align: top;\n",
              "    }\n",
              "\n",
              "    .dataframe thead th {\n",
              "        text-align: right;\n",
              "    }\n",
              "</style>\n",
              "<table border=\"1\" class=\"dataframe\">\n",
              "  <thead>\n",
              "    <tr style=\"text-align: right;\">\n",
              "      <th></th>\n",
              "      <th>price</th>\n",
              "      <th>minimum_nights</th>\n",
              "      <th>number_of_reviews</th>\n",
              "      <th>reviews_per_month</th>\n",
              "      <th>calculated_host_listings_count</th>\n",
              "      <th>availability_365</th>\n",
              "    </tr>\n",
              "  </thead>\n",
              "  <tbody>\n",
              "    <tr>\n",
              "      <th>price</th>\n",
              "      <td>1.000000</td>\n",
              "      <td>0.007831</td>\n",
              "      <td>-0.021346</td>\n",
              "      <td>0.023942</td>\n",
              "      <td>0.018398</td>\n",
              "      <td>0.029114</td>\n",
              "    </tr>\n",
              "    <tr>\n",
              "      <th>minimum_nights</th>\n",
              "      <td>0.007831</td>\n",
              "      <td>1.000000</td>\n",
              "      <td>-0.030278</td>\n",
              "      <td>-0.043830</td>\n",
              "      <td>-0.012369</td>\n",
              "      <td>0.109909</td>\n",
              "    </tr>\n",
              "    <tr>\n",
              "      <th>number_of_reviews</th>\n",
              "      <td>-0.021346</td>\n",
              "      <td>-0.030278</td>\n",
              "      <td>1.000000</td>\n",
              "      <td>0.744785</td>\n",
              "      <td>-0.046463</td>\n",
              "      <td>0.077293</td>\n",
              "    </tr>\n",
              "    <tr>\n",
              "      <th>reviews_per_month</th>\n",
              "      <td>0.023942</td>\n",
              "      <td>-0.043830</td>\n",
              "      <td>0.744785</td>\n",
              "      <td>1.000000</td>\n",
              "      <td>-0.041740</td>\n",
              "      <td>0.046904</td>\n",
              "    </tr>\n",
              "    <tr>\n",
              "      <th>calculated_host_listings_count</th>\n",
              "      <td>0.018398</td>\n",
              "      <td>-0.012369</td>\n",
              "      <td>-0.046463</td>\n",
              "      <td>-0.041740</td>\n",
              "      <td>1.000000</td>\n",
              "      <td>0.132067</td>\n",
              "    </tr>\n",
              "    <tr>\n",
              "      <th>availability_365</th>\n",
              "      <td>0.029114</td>\n",
              "      <td>0.109909</td>\n",
              "      <td>0.077293</td>\n",
              "      <td>0.046904</td>\n",
              "      <td>0.132067</td>\n",
              "      <td>1.000000</td>\n",
              "    </tr>\n",
              "  </tbody>\n",
              "</table>\n",
              "</div>"
            ],
            "text/plain": [
              "                                   price  ...  availability_365\n",
              "price                           1.000000  ...          0.029114\n",
              "minimum_nights                  0.007831  ...          0.109909\n",
              "number_of_reviews              -0.021346  ...          0.077293\n",
              "reviews_per_month               0.023942  ...          0.046904\n",
              "calculated_host_listings_count  0.018398  ...          0.132067\n",
              "availability_365                0.029114  ...          1.000000\n",
              "\n",
              "[6 rows x 6 columns]"
            ]
          },
          "metadata": {
            "tags": []
          }
        }
      ]
    },
    {
      "cell_type": "code",
      "metadata": {
        "id": "91UujDr6ueqE",
        "colab_type": "code",
        "colab": {
          "base_uri": "https://localhost:8080/",
          "height": 428
        },
        "outputId": "9dafa93c-b024-40f2-91be-991e73afd06b"
      },
      "source": [
        "# plotar um heatmap a partir das correlações\n",
        "sns.heatmap(corr, cmap='RdBu', fmt='.2f', square=True, linecolor='white', annot=True)"
      ],
      "execution_count": 13,
      "outputs": [
        {
          "output_type": "execute_result",
          "data": {
            "text/plain": [
              "<matplotlib.axes._subplots.AxesSubplot at 0x7f0bdf4e3f28>"
            ]
          },
          "metadata": {
            "tags": []
          },
          "execution_count": 13
        },
        {
          "output_type": "display_data",
          "data": {
            "image/png": "[encoded data removed]",
            "text/plain": [
              "<Figure size 432x288 with 2 Axes>"
            ]
          },
          "metadata": {
            "tags": [],
            "needs_background": "light"
          }
        }
      ]
    },
    {
      "cell_type": "markdown",
      "metadata": {
        "id": "xAuPgY2EfDJD",
        "colab_type": "text"
      },
      "source": [
        "### **3.5. Exploratory Questions**"
      ]
    },
    {
      "cell_type": "markdown",
      "metadata": {
        "id": "7b6RMWpuHKN-",
        "colab_type": "text"
      },
      "source": [
        "#### **Q5. Qual o tipo de imóvel mais alugado no Airbnb?**"
      ]
    },
    {
      "cell_type": "code",
      "metadata": {
        "id": "ueLPNWvPHgfB",
        "colab_type": "code",
        "colab": {
          "base_uri": "https://localhost:8080/",
          "height": 185
        },
        "outputId": "6f27a49e-7582-46fa-edaf-b3f40058a6a9"
      },
      "source": [
        "# mostrar a quantidade de cada tipo de imóvel disponível\n",
        "df_clean.room_type.value_counts()"
      ],
      "execution_count": 14,
      "outputs": [
        {
          "output_type": "error",
          "ename": "NameError",
          "evalue": "ignored",
          "traceback": [
            "\u001b[0;31m---------------------------------------------------------------------------\u001b[0m",
            "\u001b[0;31mNameError\u001b[0m                                 Traceback (most recent call last)",
            "\u001b[0;32m<ipython-input-14-24b535a0516e>\u001b[0m in \u001b[0;36m<module>\u001b[0;34m()\u001b[0m\n\u001b[1;32m      1\u001b[0m \u001b[0;31m# mostrar a quantidade de cada tipo de imóvel disponível\u001b[0m\u001b[0;34m\u001b[0m\u001b[0;34m\u001b[0m\u001b[0;34m\u001b[0m\u001b[0m\n\u001b[0;32m----> 2\u001b[0;31m \u001b[0mdf_clean\u001b[0m\u001b[0;34m.\u001b[0m\u001b[0mroom_type\u001b[0m\u001b[0;34m.\u001b[0m\u001b[0mvalue_counts\u001b[0m\u001b[0;34m(\u001b[0m\u001b[0;34m)\u001b[0m\u001b[0;34m\u001b[0m\u001b[0;34m\u001b[0m\u001b[0m\n\u001b[0m",
            "\u001b[0;31mNameError\u001b[0m: name 'df_clean' is not defined"
          ]
        }
      ]
    },
    {
      "cell_type": "code",
      "metadata": {
        "id": "EvwoO-XAHhIm",
        "colab_type": "code",
        "colab": {}
      },
      "source": [
        "# mostrar a porcentagem de cada tipo de imóvel disponível\n",
        "df_clean.room_type.value_counts() / df_clean.shape[0]"
      ],
      "execution_count": 0,
      "outputs": []
    },
    {
      "cell_type": "markdown",
      "metadata": {
        "id": "MFa5NbnLJMcd",
        "colab_type": "text"
      },
      "source": [
        "#### **Q6. Qual a localidade mais cara do dataset?**\n",
        "\n"
      ]
    },
    {
      "cell_type": "code",
      "metadata": {
        "id": "MD_xa143JZpi",
        "colab_type": "code",
        "colab": {}
      },
      "source": [
        "# ver preços por bairros, na média\n",
        "df_clean.groupby(['neighbourhood']).price.mean().sort_values(ascending=False)[:10]"
      ],
      "execution_count": 0,
      "outputs": []
    },
    {
      "cell_type": "code",
      "metadata": {
        "id": "UxVJqJ_3W59I",
        "colab_type": "code",
        "colab": {}
      },
      "source": [
        "# plotar os imóveis pela latitude-longitude\n",
        "df_clean.plot(kind='scatter', x='longintude', y='latitude', alpha=0.4,\n",
        "              c=df_clean['price'], s=8, cmap=plt.get_cmap('jet'), figsize=(12,8))"
      ],
      "execution_count": 0,
      "outputs": []
    },
    {
      "cell_type": "markdown",
      "metadata": {
        "id": "vTneAMRUYvr1",
        "colab_type": "text"
      },
      "source": [
        "#### **Q7. Qual é a média do mínimo de noites para aluguel (minimum_nights)?**"
      ]
    },
    {
      "cell_type": "code",
      "metadata": {
        "id": "_VzNhrEgY82N",
        "colab_type": "code",
        "colab": {}
      },
      "source": [
        "# ver a média da coluna `minimum_nights``"
      ],
      "execution_count": 0,
      "outputs": []
    },
    {
      "cell_type": "markdown",
      "metadata": {
        "id": "GkvAg623RjoR",
        "colab_type": "text"
      },
      "source": [
        "## Conclusões\n"
      ]
    },
    {
      "cell_type": "markdown",
      "metadata": {
        "id": "rbZ3Hsy9Ypw8",
        "colab_type": "text"
      },
      "source": [
        ""
      ]
    }
  ]
}